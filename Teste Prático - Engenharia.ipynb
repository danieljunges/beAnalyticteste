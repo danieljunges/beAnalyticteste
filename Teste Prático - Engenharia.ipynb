{
  "cells": [
    {
      "cell_type": "markdown",
      "source": [
        "#### Notebook responsável por extrair os dados da API da steamdb\n",
        "\n"
      ],
      "metadata": {
        "id": "yHPQJlUQyv0g"
      },
      "id": "yHPQJlUQyv0g"
    },
    {
      "cell_type": "code",
      "id": "v8ObFckAnOgcREGm8MT9icF1",
      "metadata": {
        "tags": [],
        "id": "v8ObFckAnOgcREGm8MT9icF1",
        "colab": {
          "base_uri": "https://localhost:8080/"
        },
        "executionInfo": {
          "status": "ok",
          "timestamp": 1730993069653,
          "user_tz": 180,
          "elapsed": 16553,
          "user": {
            "displayName": "",
            "userId": ""
          }
        },
        "outputId": "9a6d14db-4329-4117-9960-0725c01c05ec"
      },
      "source": [
        "!pip install pyspark\n",
        "!pip install requests\n",
        "!pip install beautifulsoup4\n",
        "!pip install google-cloud-bigquery\n",
        "!pip install google-cloud-storage"
      ],
      "execution_count": 5,
      "outputs": [
        {
          "output_type": "stream",
          "name": "stdout",
          "text": [
            "Requirement already satisfied: pyspark in /usr/local/lib/python3.10/dist-packages (3.5.3)\n",
            "Requirement already satisfied: py4j==0.10.9.7 in /usr/local/lib/python3.10/dist-packages (from pyspark) (0.10.9.7)\n",
            "Requirement already satisfied: requests in /usr/local/lib/python3.10/dist-packages (2.32.3)\n",
            "Requirement already satisfied: charset-normalizer<4,>=2 in /usr/local/lib/python3.10/dist-packages (from requests) (3.4.0)\n",
            "Requirement already satisfied: idna<4,>=2.5 in /usr/local/lib/python3.10/dist-packages (from requests) (3.10)\n",
            "Requirement already satisfied: urllib3<3,>=1.21.1 in /usr/local/lib/python3.10/dist-packages (from requests) (2.2.3)\n",
            "Requirement already satisfied: certifi>=2017.4.17 in /usr/local/lib/python3.10/dist-packages (from requests) (2024.8.30)\n",
            "Requirement already satisfied: beautifulsoup4 in /usr/local/lib/python3.10/dist-packages (4.12.3)\n",
            "Requirement already satisfied: soupsieve>1.2 in /usr/local/lib/python3.10/dist-packages (from beautifulsoup4) (2.6)\n",
            "Requirement already satisfied: google-cloud-bigquery in /usr/local/lib/python3.10/dist-packages (3.26.0)\n",
            "Requirement already satisfied: google-api-core<3.0.0dev,>=2.11.1 in /usr/local/lib/python3.10/dist-packages (from google-api-core[grpc]<3.0.0dev,>=2.11.1->google-cloud-bigquery) (2.19.2)\n",
            "Requirement already satisfied: google-auth<3.0.0dev,>=2.14.1 in /usr/local/lib/python3.10/dist-packages (from google-cloud-bigquery) (2.27.0)\n",
            "Requirement already satisfied: google-cloud-core<3.0.0dev,>=2.4.1 in /usr/local/lib/python3.10/dist-packages (from google-cloud-bigquery) (2.4.1)\n",
            "Requirement already satisfied: google-resumable-media<3.0dev,>=2.0.0 in /usr/local/lib/python3.10/dist-packages (from google-cloud-bigquery) (2.7.2)\n",
            "Requirement already satisfied: packaging>=20.0.0 in /usr/local/lib/python3.10/dist-packages (from google-cloud-bigquery) (24.1)\n",
            "Requirement already satisfied: python-dateutil<3.0dev,>=2.7.3 in /usr/local/lib/python3.10/dist-packages (from google-cloud-bigquery) (2.8.2)\n",
            "Requirement already satisfied: requests<3.0.0dev,>=2.21.0 in /usr/local/lib/python3.10/dist-packages (from google-cloud-bigquery) (2.32.3)\n",
            "Requirement already satisfied: googleapis-common-protos<2.0.dev0,>=1.56.2 in /usr/local/lib/python3.10/dist-packages (from google-api-core<3.0.0dev,>=2.11.1->google-api-core[grpc]<3.0.0dev,>=2.11.1->google-cloud-bigquery) (1.65.0)\n",
            "Requirement already satisfied: protobuf!=3.20.0,!=3.20.1,!=4.21.0,!=4.21.1,!=4.21.2,!=4.21.3,!=4.21.4,!=4.21.5,<6.0.0.dev0,>=3.19.5 in /usr/local/lib/python3.10/dist-packages (from google-api-core<3.0.0dev,>=2.11.1->google-api-core[grpc]<3.0.0dev,>=2.11.1->google-cloud-bigquery) (3.20.3)\n",
            "Requirement already satisfied: proto-plus<2.0.0dev,>=1.22.3 in /usr/local/lib/python3.10/dist-packages (from google-api-core<3.0.0dev,>=2.11.1->google-api-core[grpc]<3.0.0dev,>=2.11.1->google-cloud-bigquery) (1.24.0)\n",
            "Requirement already satisfied: grpcio<2.0dev,>=1.33.2 in /usr/local/lib/python3.10/dist-packages (from google-api-core[grpc]<3.0.0dev,>=2.11.1->google-cloud-bigquery) (1.64.1)\n",
            "Requirement already satisfied: grpcio-status<2.0.dev0,>=1.33.2 in /usr/local/lib/python3.10/dist-packages (from google-api-core[grpc]<3.0.0dev,>=2.11.1->google-cloud-bigquery) (1.48.2)\n",
            "Requirement already satisfied: cachetools<6.0,>=2.0.0 in /usr/local/lib/python3.10/dist-packages (from google-auth<3.0.0dev,>=2.14.1->google-cloud-bigquery) (5.5.0)\n",
            "Requirement already satisfied: pyasn1-modules>=0.2.1 in /usr/local/lib/python3.10/dist-packages (from google-auth<3.0.0dev,>=2.14.1->google-cloud-bigquery) (0.4.1)\n",
            "Requirement already satisfied: rsa<5,>=3.1.4 in /usr/local/lib/python3.10/dist-packages (from google-auth<3.0.0dev,>=2.14.1->google-cloud-bigquery) (4.9)\n",
            "Requirement already satisfied: google-crc32c<2.0dev,>=1.0 in /usr/local/lib/python3.10/dist-packages (from google-resumable-media<3.0dev,>=2.0.0->google-cloud-bigquery) (1.6.0)\n",
            "Requirement already satisfied: six>=1.5 in /usr/local/lib/python3.10/dist-packages (from python-dateutil<3.0dev,>=2.7.3->google-cloud-bigquery) (1.16.0)\n",
            "Requirement already satisfied: charset-normalizer<4,>=2 in /usr/local/lib/python3.10/dist-packages (from requests<3.0.0dev,>=2.21.0->google-cloud-bigquery) (3.4.0)\n",
            "Requirement already satisfied: idna<4,>=2.5 in /usr/local/lib/python3.10/dist-packages (from requests<3.0.0dev,>=2.21.0->google-cloud-bigquery) (3.10)\n",
            "Requirement already satisfied: urllib3<3,>=1.21.1 in /usr/local/lib/python3.10/dist-packages (from requests<3.0.0dev,>=2.21.0->google-cloud-bigquery) (2.2.3)\n",
            "Requirement already satisfied: certifi>=2017.4.17 in /usr/local/lib/python3.10/dist-packages (from requests<3.0.0dev,>=2.21.0->google-cloud-bigquery) (2024.8.30)\n",
            "Requirement already satisfied: pyasn1<0.7.0,>=0.4.6 in /usr/local/lib/python3.10/dist-packages (from pyasn1-modules>=0.2.1->google-auth<3.0.0dev,>=2.14.1->google-cloud-bigquery) (0.6.1)\n",
            "Requirement already satisfied: google-cloud-storage in /usr/local/lib/python3.10/dist-packages (2.8.0)\n",
            "Requirement already satisfied: google-auth<3.0dev,>=1.25.0 in /usr/local/lib/python3.10/dist-packages (from google-cloud-storage) (2.27.0)\n",
            "Requirement already satisfied: google-api-core!=2.0.*,!=2.1.*,!=2.2.*,!=2.3.0,<3.0.0dev,>=1.31.5 in /usr/local/lib/python3.10/dist-packages (from google-cloud-storage) (2.19.2)\n",
            "Requirement already satisfied: google-cloud-core<3.0dev,>=2.3.0 in /usr/local/lib/python3.10/dist-packages (from google-cloud-storage) (2.4.1)\n",
            "Requirement already satisfied: google-resumable-media>=2.3.2 in /usr/local/lib/python3.10/dist-packages (from google-cloud-storage) (2.7.2)\n",
            "Requirement already satisfied: requests<3.0.0dev,>=2.18.0 in /usr/local/lib/python3.10/dist-packages (from google-cloud-storage) (2.32.3)\n",
            "Requirement already satisfied: googleapis-common-protos<2.0.dev0,>=1.56.2 in /usr/local/lib/python3.10/dist-packages (from google-api-core!=2.0.*,!=2.1.*,!=2.2.*,!=2.3.0,<3.0.0dev,>=1.31.5->google-cloud-storage) (1.65.0)\n",
            "Requirement already satisfied: protobuf!=3.20.0,!=3.20.1,!=4.21.0,!=4.21.1,!=4.21.2,!=4.21.3,!=4.21.4,!=4.21.5,<6.0.0.dev0,>=3.19.5 in /usr/local/lib/python3.10/dist-packages (from google-api-core!=2.0.*,!=2.1.*,!=2.2.*,!=2.3.0,<3.0.0dev,>=1.31.5->google-cloud-storage) (3.20.3)\n",
            "Requirement already satisfied: proto-plus<2.0.0dev,>=1.22.3 in /usr/local/lib/python3.10/dist-packages (from google-api-core!=2.0.*,!=2.1.*,!=2.2.*,!=2.3.0,<3.0.0dev,>=1.31.5->google-cloud-storage) (1.24.0)\n",
            "Requirement already satisfied: cachetools<6.0,>=2.0.0 in /usr/local/lib/python3.10/dist-packages (from google-auth<3.0dev,>=1.25.0->google-cloud-storage) (5.5.0)\n",
            "Requirement already satisfied: pyasn1-modules>=0.2.1 in /usr/local/lib/python3.10/dist-packages (from google-auth<3.0dev,>=1.25.0->google-cloud-storage) (0.4.1)\n",
            "Requirement already satisfied: rsa<5,>=3.1.4 in /usr/local/lib/python3.10/dist-packages (from google-auth<3.0dev,>=1.25.0->google-cloud-storage) (4.9)\n",
            "Requirement already satisfied: google-crc32c<2.0dev,>=1.0 in /usr/local/lib/python3.10/dist-packages (from google-resumable-media>=2.3.2->google-cloud-storage) (1.6.0)\n",
            "Requirement already satisfied: charset-normalizer<4,>=2 in /usr/local/lib/python3.10/dist-packages (from requests<3.0.0dev,>=2.18.0->google-cloud-storage) (3.4.0)\n",
            "Requirement already satisfied: idna<4,>=2.5 in /usr/local/lib/python3.10/dist-packages (from requests<3.0.0dev,>=2.18.0->google-cloud-storage) (3.10)\n",
            "Requirement already satisfied: urllib3<3,>=1.21.1 in /usr/local/lib/python3.10/dist-packages (from requests<3.0.0dev,>=2.18.0->google-cloud-storage) (2.2.3)\n",
            "Requirement already satisfied: certifi>=2017.4.17 in /usr/local/lib/python3.10/dist-packages (from requests<3.0.0dev,>=2.18.0->google-cloud-storage) (2024.8.30)\n",
            "Requirement already satisfied: pyasn1<0.7.0,>=0.4.6 in /usr/local/lib/python3.10/dist-packages (from pyasn1-modules>=0.2.1->google-auth<3.0dev,>=1.25.0->google-cloud-storage) (0.6.1)\n"
          ]
        }
      ]
    },
    {
      "cell_type": "markdown",
      "source": [
        "#### Importa bibliotecas responsáveis pelo ETL"
      ],
      "metadata": {
        "id": "SyIfZ8350QRp"
      },
      "id": "SyIfZ8350QRp"
    },
    {
      "cell_type": "code",
      "source": [
        "import requests\n",
        "from pyspark.sql.functions import *\n",
        "from pyspark.sql import *\n",
        "from pyspark.sql.types import *\n",
        "import pandas as pd\n",
        "from google.colab import files"
      ],
      "metadata": {
        "id": "F3oFb2_y0TZJ",
        "executionInfo": {
          "status": "ok",
          "timestamp": 1730993070557,
          "user_tz": 180,
          "elapsed": 910,
          "user": {
            "displayName": "",
            "userId": ""
          }
        }
      },
      "id": "F3oFb2_y0TZJ",
      "execution_count": 6,
      "outputs": []
    },
    {
      "cell_type": "code",
      "source": [
        "# Inicia a sessão Spark\n",
        "spark = SparkSession.builder.appName(\"SteamAPI\").getOrCreate()"
      ],
      "metadata": {
        "id": "oDgV3A3k14wJ",
        "executionInfo": {
          "status": "ok",
          "timestamp": 1730993079172,
          "user_tz": 180,
          "elapsed": 8619,
          "user": {
            "displayName": "",
            "userId": ""
          }
        }
      },
      "id": "oDgV3A3k14wJ",
      "execution_count": 7,
      "outputs": []
    },
    {
      "cell_type": "markdown",
      "source": [
        "## Função que retorna as categorias dos jogos listados na Steam"
      ],
      "metadata": {
        "id": "ZJ1c8D7Qw2aR"
      },
      "id": "ZJ1c8D7Qw2aR"
    },
    {
      "cell_type": "code",
      "source": [
        "def listaCategorias(url: str, params: dict) -> DataFrame:\n",
        "    response = requests.get(url, params=params)\n",
        "\n",
        "    if response.status_code == 200:\n",
        "        data = response.json()\n",
        "\n",
        "        categorias = data.get(\"response\", {}).get(\"tags\", [])\n",
        "\n",
        "\n",
        "        schema = StructType([\n",
        "            StructField(\"tagid\", IntegerType(), True),\n",
        "            StructField(\"name\", StringType(), True),\n",
        "        ])\n",
        "\n",
        "        # Criação do DataFrame\n",
        "        df = spark.createDataFrame(categorias, schema=schema)\n",
        "        return df\n",
        "    else:\n",
        "        print(\"Erro:\", response.status_code, response.text)\n",
        "        return None\n",
        "\n",
        "url = \"https://api.steampowered.com/IStoreService/GetMostPopularTags/v1/\"\n",
        "parametros = {\n",
        "    \"key\": \"8700AD359A4579244D1C25C9C673D947\"\n",
        "}\n",
        "\n",
        "df_categorias = listaCategorias(url, parametros)\n"
      ],
      "metadata": {
        "id": "TuHW3Bcdvhjc",
        "executionInfo": {
          "status": "ok",
          "timestamp": 1730993082435,
          "user_tz": 180,
          "elapsed": 3268,
          "user": {
            "displayName": "",
            "userId": ""
          }
        }
      },
      "id": "TuHW3Bcdvhjc",
      "execution_count": 8,
      "outputs": []
    },
    {
      "cell_type": "markdown",
      "source": [
        "### Tratamento nas colunas que estão em Inglês"
      ],
      "metadata": {
        "id": "v6UkJu9nz4YJ"
      },
      "id": "v6UkJu9nz4YJ"
    },
    {
      "cell_type": "code",
      "source": [
        "df_categorias = df_categorias.withColumnRenamed(\"tagid\", \"idCategoria\")\\\n",
        "                             .withColumnRenamed(\"name\", \"Categoria\")"
      ],
      "metadata": {
        "id": "JJUJFjkOz8v9",
        "executionInfo": {
          "status": "ok",
          "timestamp": 1730993082435,
          "user_tz": 180,
          "elapsed": 8,
          "user": {
            "displayName": "",
            "userId": ""
          }
        }
      },
      "id": "JJUJFjkOz8v9",
      "execution_count": 9,
      "outputs": []
    },
    {
      "cell_type": "code",
      "source": [
        "df_categorias.show()"
      ],
      "metadata": {
        "colab": {
          "base_uri": "https://localhost:8080/"
        },
        "id": "WgX0QSgOv5Rb",
        "executionInfo": {
          "status": "ok",
          "timestamp": 1730993088270,
          "user_tz": 180,
          "elapsed": 5840,
          "user": {
            "displayName": "",
            "userId": ""
          }
        },
        "outputId": "5d956a58-f65d-496c-841f-cdbdc7277170"
      },
      "id": "WgX0QSgOv5Rb",
      "execution_count": 10,
      "outputs": [
        {
          "output_type": "stream",
          "name": "stdout",
          "text": [
            "+-----------+--------------+\n",
            "|idCategoria|     Categoria|\n",
            "+-----------+--------------+\n",
            "|        492|         Indie|\n",
            "|         19|        Action|\n",
            "|         21|     Adventure|\n",
            "|        597|        Casual|\n",
            "|        122|           RPG|\n",
            "|        599|    Simulation|\n",
            "|       4182|  Singleplayer|\n",
            "|          9|      Strategy|\n",
            "|        493|  Early Access|\n",
            "|        113|  Free to Play|\n",
            "|       3871|            2D|\n",
            "|       4191|            3D|\n",
            "|       4166|   Atmospheric|\n",
            "|       4305|      Colorful|\n",
            "|       1742|    Story Rich|\n",
            "|       1684|       Fantasy|\n",
            "|       3859|   Multiplayer|\n",
            "|       3834|   Exploration|\n",
            "|       1664|        Puzzle|\n",
            "|       3964|Pixel Graphics|\n",
            "+-----------+--------------+\n",
            "only showing top 20 rows\n",
            "\n"
          ]
        }
      ]
    },
    {
      "cell_type": "markdown",
      "source": [
        "#### Agrupando por Similaridade para saber quantos jogos Multiplayer tem disponíveis"
      ],
      "metadata": {
        "id": "BwqnDtosyhp1"
      },
      "id": "BwqnDtosyhp1"
    },
    {
      "cell_type": "code",
      "source": [
        "df_multiplayer = df_categorias.filter(df_categorias[\"Categoria\"].like(\"%Multi%\"))\n",
        "df_multiplayer.show(truncate=False)"
      ],
      "metadata": {
        "colab": {
          "base_uri": "https://localhost:8080/"
        },
        "id": "BWMI_OKwyAah",
        "executionInfo": {
          "status": "ok",
          "timestamp": 1730993089198,
          "user_tz": 180,
          "elapsed": 933,
          "user": {
            "displayName": "",
            "userId": ""
          }
        },
        "outputId": "4bcbafc9-78d1-4c45-8006-51334679b25e"
      },
      "id": "BWMI_OKwyAah",
      "execution_count": 11,
      "outputs": [
        {
          "output_type": "stream",
          "name": "stdout",
          "text": [
            "+-----------+------------------------+\n",
            "|idCategoria|Categoria               |\n",
            "+-----------+------------------------+\n",
            "|3859       |Multiplayer             |\n",
            "|128        |Massively Multiplayer   |\n",
            "|6971       |Multiple Endings        |\n",
            "|7368       |Local Multiplayer       |\n",
            "|17770      |Asynchronous Multiplayer|\n",
            "+-----------+------------------------+\n",
            "\n"
          ]
        }
      ]
    },
    {
      "cell_type": "markdown",
      "source": [
        "#### Função que retorna todos os jogos disponíveis na Steam de acordo com a API do steamdb"
      ],
      "metadata": {
        "id": "opu5VYXNziNL"
      },
      "id": "opu5VYXNziNL"
    },
    {
      "cell_type": "code",
      "source": [
        "def listaJogos(url: str, params: dict) -> DataFrame:\n",
        "    response = requests.get(url, params=params)\n",
        "\n",
        "    if response.status_code == 200:\n",
        "        data = response.json()\n",
        "\n",
        "\n",
        "        jogos = data.get(\"response\", {}).get(\"apps\", [])\n",
        "\n",
        "        schema = StructType([\n",
        "            StructField(\"appid\", IntegerType(), True),\n",
        "            StructField(\"name\", StringType(), True),\n",
        "            StructField(\"last_modified\", LongType(), True),\n",
        "            StructField(\"price_change_number\", IntegerType(), True)\n",
        "        ])\n",
        "\n",
        "        # Criação do DataFrame\n",
        "        df_jogos = spark.createDataFrame(jogos, schema=schema)\n",
        "        return df_jogos\n",
        "    else:\n",
        "        print(\"Erro:\", response.status_code, response.text)\n",
        "        return None\n",
        "\n",
        "url = \"https://api.steampowered.com/IStoreService/GetAppList/v1/\"\n",
        "params = {\n",
        "    \"key\": \"8700AD359A4579244D1C25C9C673D947\"\n",
        "}\n",
        "\n",
        "df_jogos = listaJogos(url, params)\n"
      ],
      "metadata": {
        "id": "B7nL84yxCzwy",
        "executionInfo": {
          "status": "ok",
          "timestamp": 1730993092305,
          "user_tz": 180,
          "elapsed": 3111,
          "user": {
            "displayName": "",
            "userId": ""
          }
        }
      },
      "id": "B7nL84yxCzwy",
      "execution_count": 12,
      "outputs": []
    },
    {
      "cell_type": "code",
      "source": [
        "df_jogos.show()"
      ],
      "metadata": {
        "colab": {
          "base_uri": "https://localhost:8080/"
        },
        "id": "LswjlBux1Ssm",
        "executionInfo": {
          "status": "ok",
          "timestamp": 1730993092706,
          "user_tz": 180,
          "elapsed": 404,
          "user": {
            "displayName": "",
            "userId": ""
          }
        },
        "outputId": "2f967ec0-90a9-45ab-9c2c-a23872196fc1"
      },
      "id": "LswjlBux1Ssm",
      "execution_count": 13,
      "outputs": [
        {
          "output_type": "stream",
          "name": "stdout",
          "text": [
            "+-----+--------------------+-------------+-------------------+\n",
            "|appid|                name|last_modified|price_change_number|\n",
            "+-----+--------------------+-------------+-------------------+\n",
            "|   10|      Counter-Strike|   1729702322|           24324481|\n",
            "|   20|Team Fortress Cla...|   1729702194|           24324481|\n",
            "|   30|       Day of Defeat|   1729702105|           24324481|\n",
            "|   40|  Deathmatch Classic|   1729702150|           24324481|\n",
            "|   50|Half-Life: Opposi...|   1729702282|           24324481|\n",
            "|   60|            Ricochet|   1729701834|           24324481|\n",
            "|   70|           Half-Life|   1729702360|           24324481|\n",
            "|   80|Counter-Strike: C...|   1729702001|           24324481|\n",
            "|  130|Half-Life: Blue S...|   1721932676|           24324481|\n",
            "|  220|         Half-Life 2|   1727742736|           24853235|\n",
            "|  240|Counter-Strike: S...|   1729702412|           24324481|\n",
            "|  300|Day of Defeat: So...|   1729702240|           24324481|\n",
            "|  320|Half-Life 2: Deat...|   1729702057|           24324481|\n",
            "|  340|Half-Life 2: Lost...|   1721932675|                  0|\n",
            "|  360|Half-Life Deathma...|   1729701752|           24324481|\n",
            "|  380|Half-Life 2: Epis...|   1721932673|           24853235|\n",
            "|  400|              Portal|   1726252771|           25771160|\n",
            "|  420|Half-Life 2: Epis...|   1721932674|           24853235|\n",
            "|  440|     Team Fortress 2|   1729702978|           26041635|\n",
            "|  500|         Left 4 Dead|   1729702469|           26041635|\n",
            "+-----+--------------------+-------------+-------------------+\n",
            "only showing top 20 rows\n",
            "\n"
          ]
        }
      ]
    },
    {
      "cell_type": "markdown",
      "source": [
        "#### Tratamento nas colunas"
      ],
      "metadata": {
        "id": "GyAxON8C2gEr"
      },
      "id": "GyAxON8C2gEr"
    },
    {
      "cell_type": "code",
      "source": [
        "df_jogos = df_jogos.withColumnRenamed(\"appid\", \"idJogo\")\\\n",
        "                             .withColumnRenamed(\"name\", \"Jogo\")\\\n",
        "                             .withColumnRenamed(\"last_modified\", \"DataUltimaModificacao\")\\\n",
        "                             .withColumnRenamed(\"price_change_number\", \"numeroAlteracoesPreco\")\n",
        "\n",
        "if df_jogos.schema[\"DataUltimaModificacao\"].dataType != TimestampType():\n",
        "  df_jogos = df_jogos.withColumn(\"DataUltimaModificacao\", from_unixtime(\"DataUltimaModificacao\").cast(\"timestamp\"))"
      ],
      "metadata": {
        "id": "Oy8CDyGl2hsZ",
        "executionInfo": {
          "status": "ok",
          "timestamp": 1730993093089,
          "user_tz": 180,
          "elapsed": 385,
          "user": {
            "displayName": "",
            "userId": ""
          }
        }
      },
      "id": "Oy8CDyGl2hsZ",
      "execution_count": 14,
      "outputs": []
    },
    {
      "cell_type": "code",
      "source": [
        "df_jogos.show()"
      ],
      "metadata": {
        "colab": {
          "base_uri": "https://localhost:8080/"
        },
        "id": "kqKR4umJ4Fay",
        "executionInfo": {
          "status": "ok",
          "timestamp": 1730993093546,
          "user_tz": 180,
          "elapsed": 459,
          "user": {
            "displayName": "",
            "userId": ""
          }
        },
        "outputId": "5a26704f-c71f-4d85-e035-9fcd6e1b85e5"
      },
      "id": "kqKR4umJ4Fay",
      "execution_count": 15,
      "outputs": [
        {
          "output_type": "stream",
          "name": "stdout",
          "text": [
            "+------+--------------------+---------------------+---------------------+\n",
            "|idJogo|                Jogo|DataUltimaModificacao|numeroAlteracoesPreco|\n",
            "+------+--------------------+---------------------+---------------------+\n",
            "|    10|      Counter-Strike|  2024-10-23 16:52:02|             24324481|\n",
            "|    20|Team Fortress Cla...|  2024-10-23 16:49:54|             24324481|\n",
            "|    30|       Day of Defeat|  2024-10-23 16:48:25|             24324481|\n",
            "|    40|  Deathmatch Classic|  2024-10-23 16:49:10|             24324481|\n",
            "|    50|Half-Life: Opposi...|  2024-10-23 16:51:22|             24324481|\n",
            "|    60|            Ricochet|  2024-10-23 16:43:54|             24324481|\n",
            "|    70|           Half-Life|  2024-10-23 16:52:40|             24324481|\n",
            "|    80|Counter-Strike: C...|  2024-10-23 16:46:41|             24324481|\n",
            "|   130|Half-Life: Blue S...|  2024-07-25 18:37:56|             24324481|\n",
            "|   220|         Half-Life 2|  2024-10-01 00:32:16|             24853235|\n",
            "|   240|Counter-Strike: S...|  2024-10-23 16:53:32|             24324481|\n",
            "|   300|Day of Defeat: So...|  2024-10-23 16:50:40|             24324481|\n",
            "|   320|Half-Life 2: Deat...|  2024-10-23 16:47:37|             24324481|\n",
            "|   340|Half-Life 2: Lost...|  2024-07-25 18:37:55|                    0|\n",
            "|   360|Half-Life Deathma...|  2024-10-23 16:42:32|             24324481|\n",
            "|   380|Half-Life 2: Epis...|  2024-07-25 18:37:53|             24853235|\n",
            "|   400|              Portal|  2024-09-13 18:39:31|             25771160|\n",
            "|   420|Half-Life 2: Epis...|  2024-07-25 18:37:54|             24853235|\n",
            "|   440|     Team Fortress 2|  2024-10-23 17:02:58|             26041635|\n",
            "|   500|         Left 4 Dead|  2024-10-23 16:54:29|             26041635|\n",
            "+------+--------------------+---------------------+---------------------+\n",
            "only showing top 20 rows\n",
            "\n"
          ]
        }
      ]
    },
    {
      "cell_type": "markdown",
      "source": [
        "### Cria uma coluna que verifica, de acordo com o número de alterações de preço, qual jogo tem alta frequência de alteração"
      ],
      "metadata": {
        "id": "cE5gmeI65HMX"
      },
      "id": "cE5gmeI65HMX"
    },
    {
      "cell_type": "code",
      "source": [
        "df_jogos = df_jogos.withColumn(\n",
        "    \"frequenciaAlteracaoPreco\",\n",
        "    when(df_jogos[\"numeroAlteracoesPreco\"] < 10, \"Baixa\")\n",
        "    .when((df_jogos[\"numeroAlteracoesPreco\"] >= 10) & (df_jogos[\"numeroAlteracoesPreco\"] < 50), \"Média\")\n",
        "    .otherwise(\"Alta\")\n",
        ")"
      ],
      "metadata": {
        "id": "mOixdoYN5PCH",
        "executionInfo": {
          "status": "ok",
          "timestamp": 1730993093547,
          "user_tz": 180,
          "elapsed": 7,
          "user": {
            "displayName": "",
            "userId": ""
          }
        }
      },
      "id": "mOixdoYN5PCH",
      "execution_count": 16,
      "outputs": []
    },
    {
      "cell_type": "code",
      "source": [
        "df_jogos.show()"
      ],
      "metadata": {
        "colab": {
          "base_uri": "https://localhost:8080/"
        },
        "id": "7kTEu9gd5Rw7",
        "executionInfo": {
          "status": "ok",
          "timestamp": 1730993093960,
          "user_tz": 180,
          "elapsed": 420,
          "user": {
            "displayName": "",
            "userId": ""
          }
        },
        "outputId": "cbf976ab-5fa6-4bf6-ebbc-5146531b7340"
      },
      "id": "7kTEu9gd5Rw7",
      "execution_count": 17,
      "outputs": [
        {
          "output_type": "stream",
          "name": "stdout",
          "text": [
            "+------+--------------------+---------------------+---------------------+------------------------+\n",
            "|idJogo|                Jogo|DataUltimaModificacao|numeroAlteracoesPreco|frequenciaAlteracaoPreco|\n",
            "+------+--------------------+---------------------+---------------------+------------------------+\n",
            "|    10|      Counter-Strike|  2024-10-23 16:52:02|             24324481|                    Alta|\n",
            "|    20|Team Fortress Cla...|  2024-10-23 16:49:54|             24324481|                    Alta|\n",
            "|    30|       Day of Defeat|  2024-10-23 16:48:25|             24324481|                    Alta|\n",
            "|    40|  Deathmatch Classic|  2024-10-23 16:49:10|             24324481|                    Alta|\n",
            "|    50|Half-Life: Opposi...|  2024-10-23 16:51:22|             24324481|                    Alta|\n",
            "|    60|            Ricochet|  2024-10-23 16:43:54|             24324481|                    Alta|\n",
            "|    70|           Half-Life|  2024-10-23 16:52:40|             24324481|                    Alta|\n",
            "|    80|Counter-Strike: C...|  2024-10-23 16:46:41|             24324481|                    Alta|\n",
            "|   130|Half-Life: Blue S...|  2024-07-25 18:37:56|             24324481|                    Alta|\n",
            "|   220|         Half-Life 2|  2024-10-01 00:32:16|             24853235|                    Alta|\n",
            "|   240|Counter-Strike: S...|  2024-10-23 16:53:32|             24324481|                    Alta|\n",
            "|   300|Day of Defeat: So...|  2024-10-23 16:50:40|             24324481|                    Alta|\n",
            "|   320|Half-Life 2: Deat...|  2024-10-23 16:47:37|             24324481|                    Alta|\n",
            "|   340|Half-Life 2: Lost...|  2024-07-25 18:37:55|                    0|                   Baixa|\n",
            "|   360|Half-Life Deathma...|  2024-10-23 16:42:32|             24324481|                    Alta|\n",
            "|   380|Half-Life 2: Epis...|  2024-07-25 18:37:53|             24853235|                    Alta|\n",
            "|   400|              Portal|  2024-09-13 18:39:31|             25771160|                    Alta|\n",
            "|   420|Half-Life 2: Epis...|  2024-07-25 18:37:54|             24853235|                    Alta|\n",
            "|   440|     Team Fortress 2|  2024-10-23 17:02:58|             26041635|                    Alta|\n",
            "|   500|         Left 4 Dead|  2024-10-23 16:54:29|             26041635|                    Alta|\n",
            "+------+--------------------+---------------------+---------------------+------------------------+\n",
            "only showing top 20 rows\n",
            "\n"
          ]
        }
      ]
    },
    {
      "cell_type": "markdown",
      "source": [
        "### Cria uma coluna que verifica a diferença de dias entre a última atualização e o dia atual.\n",
        "\n",
        "\n",
        "*   Jogos Recentes = Modificados nos últimos 30 dias\n",
        "*   Jogos Antigos = Modificados nos últimos 365 dias\n",
        "\n"
      ],
      "metadata": {
        "id": "Pk6B6PZU59x9"
      },
      "id": "Pk6B6PZU59x9"
    },
    {
      "cell_type": "code",
      "source": [
        "df_jogos = df_jogos.withColumn(\"diasDesdeUltimaModificacao\", datediff(current_date(), \"DataUltimaModificacao\"))\n",
        "\n",
        "jogos_recentes = df_jogos.filter(df_jogos[\"diasDesdeUltimaModificacao\"] < 30)\n",
        "jogos_antigos = df_jogos.filter(df_jogos[\"diasDesdeUltimaModificacao\"] > 365)\n",
        "\n",
        "\n",
        "jogos_recentes.show()\n",
        "jogos_antigos.show()\n"
      ],
      "metadata": {
        "colab": {
          "base_uri": "https://localhost:8080/"
        },
        "id": "whgx8Ny95-1h",
        "executionInfo": {
          "status": "ok",
          "timestamp": 1730993094824,
          "user_tz": 180,
          "elapsed": 865,
          "user": {
            "displayName": "",
            "userId": ""
          }
        },
        "outputId": "2683e439-1f8f-4e6d-9cf3-b22a913749a9"
      },
      "id": "whgx8Ny95-1h",
      "execution_count": 18,
      "outputs": [
        {
          "output_type": "stream",
          "name": "stdout",
          "text": [
            "+------+--------------------+---------------------+---------------------+------------------------+--------------------------+\n",
            "|idJogo|                Jogo|DataUltimaModificacao|numeroAlteracoesPreco|frequenciaAlteracaoPreco|diasDesdeUltimaModificacao|\n",
            "+------+--------------------+---------------------+---------------------+------------------------+--------------------------+\n",
            "|    10|      Counter-Strike|  2024-10-23 16:52:02|             24324481|                    Alta|                        15|\n",
            "|    20|Team Fortress Cla...|  2024-10-23 16:49:54|             24324481|                    Alta|                        15|\n",
            "|    30|       Day of Defeat|  2024-10-23 16:48:25|             24324481|                    Alta|                        15|\n",
            "|    40|  Deathmatch Classic|  2024-10-23 16:49:10|             24324481|                    Alta|                        15|\n",
            "|    50|Half-Life: Opposi...|  2024-10-23 16:51:22|             24324481|                    Alta|                        15|\n",
            "|    60|            Ricochet|  2024-10-23 16:43:54|             24324481|                    Alta|                        15|\n",
            "|    70|           Half-Life|  2024-10-23 16:52:40|             24324481|                    Alta|                        15|\n",
            "|    80|Counter-Strike: C...|  2024-10-23 16:46:41|             24324481|                    Alta|                        15|\n",
            "|   240|Counter-Strike: S...|  2024-10-23 16:53:32|             24324481|                    Alta|                        15|\n",
            "|   300|Day of Defeat: So...|  2024-10-23 16:50:40|             24324481|                    Alta|                        15|\n",
            "|   320|Half-Life 2: Deat...|  2024-10-23 16:47:37|             24324481|                    Alta|                        15|\n",
            "|   360|Half-Life Deathma...|  2024-10-23 16:42:32|             24324481|                    Alta|                        15|\n",
            "|   440|     Team Fortress 2|  2024-10-23 17:02:58|             26041635|                    Alta|                        15|\n",
            "|   500|         Left 4 Dead|  2024-10-23 16:54:29|             26041635|                    Alta|                        15|\n",
            "|   550|       Left 4 Dead 2|  2024-10-23 16:55:23|             26041635|                    Alta|                        15|\n",
            "|   570|              Dota 2|  2024-10-23 16:56:25|             26041635|                    Alta|                        15|\n",
            "|   730|    Counter-Strike 2|  2024-10-23 17:04:05|             26041635|                    Alta|                        15|\n",
            "|  1690|     Space Empires V|  2024-11-03 21:31:41|             25732264|                    Alta|                         4|\n",
            "|  3010|         Xpand Rally|  2024-10-18 11:11:38|             25771160|                    Alta|                        20|\n",
            "|  3020|      Call of Juarez|  2024-10-18 11:11:10|             25771160|                    Alta|                        20|\n",
            "+------+--------------------+---------------------+---------------------+------------------------+--------------------------+\n",
            "only showing top 20 rows\n",
            "\n",
            "+------+--------------------+---------------------+---------------------+------------------------+--------------------------+\n",
            "|idJogo|                Jogo|DataUltimaModificacao|numeroAlteracoesPreco|frequenciaAlteracaoPreco|diasDesdeUltimaModificacao|\n",
            "+------+--------------------+---------------------+---------------------+------------------------+--------------------------+\n",
            "|   630|         Alien Swarm|  2023-02-22 22:49:30|             23464127|                    Alta|                       624|\n",
            "|  1002|    Rag Doll Kung Fu|  2021-01-23 15:28:25|             11351614|                    Alta|                      1384|\n",
            "|  1200|Red Orchestra: Os...|  2019-03-01 19:18:16|             25045961|                    Alta|                      2078|\n",
            "|  1300|SiN Episodes: Eme...|  2016-05-30 20:08:09|             26040728|                    Alta|                      3083|\n",
            "|  1313|           SiN: Gold|  2020-06-02 16:41:07|             26040728|                    Alta|                      1619|\n",
            "|  1600|    Dangerous Waters|  2020-08-20 19:13:35|             25974794|                    Alta|                      1540|\n",
            "|  1610|Space Empires IV ...|  2020-07-02 21:10:10|             25732264|                    Alta|                      1589|\n",
            "|  1620|Jagged Alliance 2...|  2019-10-28 22:09:18|             25974794|                    Alta|                      1837|\n",
            "|  1630|Disciples II: Ris...|  2019-10-15 19:01:53|             25974794|                    Alta|                      1850|\n",
            "|  1640|Disciples II: Gal...|  2019-10-09 17:26:45|             25974794|                    Alta|                      1856|\n",
            "|  1670|Iron Warriors: T ...|  2019-11-19 19:40:07|             26041635|                    Alta|                      1815|\n",
            "|  1700|         Arx Fatalis|  2020-05-28 22:18:17|             25935310|                    Alta|                      1624|\n",
            "|  1900|          Earth 2160|  2021-06-10 12:21:18|             25712953|                    Alta|                      1246|\n",
            "|  1930|Two Worlds Epic E...|  2023-09-16 13:02:25|             25712953|                    Alta|                       418|\n",
            "|  2100|Dark Messiah of M...|  2023-08-23 20:49:01|             26041635|                    Alta|                       442|\n",
            "|  2200|     Quake III Arena|  2022-09-26 21:54:14|             24884245|                    Alta|                       773|\n",
            "|  2210|             Quake 4|  2022-09-28 13:41:54|             26041635|                    Alta|                       771|\n",
            "|  2270|      Wolfenstein 3D|  2022-09-28 15:21:55|             25519079|                    Alta|                       771|\n",
            "|  2310|               Quake|  2023-08-10 16:00:43|             26041635|                    Alta|                       455|\n",
            "|  2360|Hexen: Beyond Her...|  2022-10-05 20:47:43|             24884245|                    Alta|                       764|\n",
            "+------+--------------------+---------------------+---------------------+------------------------+--------------------------+\n",
            "only showing top 20 rows\n",
            "\n"
          ]
        }
      ]
    },
    {
      "cell_type": "markdown",
      "source": [
        "## Função que retorna as recompensas que podem ser resgatadas dentro dos jogos"
      ],
      "metadata": {
        "id": "bjoOGnbl9AxO"
      },
      "id": "bjoOGnbl9AxO"
    },
    {
      "cell_type": "code",
      "source": [
        "def recompensasDisponiveis(url):\n",
        "    response = requests.get(url)\n",
        "\n",
        "    if response.status_code != 200:\n",
        "        print(f\"Erro: {response.status_code}\")\n",
        "        return None\n",
        "\n",
        "    data = response.json().get(\"response\", {}).get(\"definitions\", [])\n",
        "\n",
        "    schema = StructType([\n",
        "        StructField(\"appid\", IntegerType(), True),\n",
        "        StructField(\"defid\", IntegerType(), True),\n",
        "        StructField(\"type\", IntegerType(), True),\n",
        "        StructField(\"community_item_class\", IntegerType(), True),\n",
        "        StructField(\"community_item_type\", IntegerType(), True),\n",
        "        StructField(\"point_cost\", StringType(), True),\n",
        "        StructField(\"timestamp_created\", IntegerType(), True),\n",
        "        StructField(\"timestamp_updated\", IntegerType(), True),\n",
        "        StructField(\"active\", BooleanType(), True),\n",
        "        StructField(\"item_title\", StringType(), True),\n",
        "        StructField(\"item_description\", StringType(), True),\n",
        "        StructField(\"item_image_small\", StringType(), True),\n",
        "        StructField(\"item_image_large\", StringType(), True),\n",
        "        StructField(\"animated\", BooleanType(), True)\n",
        "    ])\n",
        "\n",
        "    dados_recompensas = [\n",
        "        {\n",
        "            \"appid\": item.get(\"appid\"),\n",
        "            \"defid\": item.get(\"defid\"),\n",
        "            \"type\": item.get(\"type\"),\n",
        "            \"community_item_class\": item.get(\"community_item_class\"),\n",
        "            \"community_item_type\": item.get(\"community_item_type\"),\n",
        "            \"point_cost\": item.get(\"point_cost\"),\n",
        "            \"timestamp_created\": item.get(\"timestamp_created\"),\n",
        "            \"timestamp_updated\": item.get(\"timestamp_updated\"),\n",
        "            \"active\": item.get(\"active\"),\n",
        "            \"item_title\": item[\"community_item_data\"].get(\"item_title\"),\n",
        "            \"item_description\": item[\"community_item_data\"].get(\"item_description\", \"\"),\n",
        "            \"item_image_small\": item[\"community_item_data\"].get(\"item_image_small\"),\n",
        "            \"item_image_large\": item[\"community_item_data\"].get(\"item_image_large\"),\n",
        "            \"animated\": item[\"community_item_data\"].get(\"animated\")\n",
        "        }\n",
        "        for item in data\n",
        "    ]\n",
        "\n",
        "    # Criação do DataFrame\n",
        "    df_recompensas = spark.createDataFrame(dados_recompensas, schema=schema)\n",
        "    return df_recompensas\n",
        "\n",
        "url = \"https://api.steampowered.com/ILoyaltyRewardsService/QueryRewardItems/v1/\"\n",
        "df_recompensas = recompensasDisponiveis(url)\n"
      ],
      "metadata": {
        "id": "3QR3qIGB9BJ3",
        "executionInfo": {
          "status": "ok",
          "timestamp": 1730999819218,
          "user_tz": 180,
          "elapsed": 396,
          "user": {
            "displayName": "",
            "userId": ""
          }
        }
      },
      "id": "3QR3qIGB9BJ3",
      "execution_count": 138,
      "outputs": []
    },
    {
      "cell_type": "markdown",
      "source": [
        "#### Tratamento e DROP de colunas não utilizadas"
      ],
      "metadata": {
        "id": "jMtTDwdY-kAy"
      },
      "id": "jMtTDwdY-kAy"
    },
    {
      "cell_type": "code",
      "source": [
        "df_recompensas = df_recompensas.withColumnRenamed(\"appid\", \"idJogo\")\\\n",
        "                               .withColumnRenamed(\"defid\", \"idRecompensa\")\\\n",
        "                               .withColumnRenamed(\"type\", \"Tipo\")\\\n",
        "                               .withColumnRenamed(\"community_item_class\", \"classeItemComunitario\")\\\n",
        "                               .withColumnRenamed(\"community_item_type\", \"tipoItemComunitario\")\\\n",
        "                               .withColumnRenamed(\"point_cost\", \"custoPontos\")\\\n",
        "                               .withColumnRenamed(\"timestamp_created\", \"dataCriacao\")\\\n",
        "                               .withColumnRenamed(\"timestamp_updated\", \"dataAtualizacao\")\\\n",
        "                               .withColumnRenamed(\"active\", \"Ativo\")\\\n",
        "                               .withColumnRenamed(\"item_title\", \"tituloItem\")\\\n",
        "                               .withColumnRenamed(\"item_description\", \"descricaoItem\")\\\n",
        "                               .withColumnRenamed(\"item_image_small\", \"imagemItemPequena\")\\\n",
        "                               .withColumnRenamed(\"item_image_large\", \"imagemItemGrande\")\\\n",
        "                               .withColumnRenamed(\"animated\", \"Animado\")\n",
        "\n",
        "df_recompensas = df_recompensas.drop(\"imagemItemPequena\", \"imagemItemGrande\")"
      ],
      "metadata": {
        "id": "lXhEQOoz_Kim",
        "executionInfo": {
          "status": "ok",
          "timestamp": 1730999820589,
          "user_tz": 180,
          "elapsed": 1,
          "user": {
            "displayName": "",
            "userId": ""
          }
        }
      },
      "id": "lXhEQOoz_Kim",
      "execution_count": 139,
      "outputs": []
    },
    {
      "cell_type": "code",
      "source": [
        "# Tratando os id's que não estão no padrão (Contém emoji no título)\n",
        "df_recompensas = df_recompensas.filter(col(\"idJogo\") != '2291700')"
      ],
      "metadata": {
        "id": "I9WJChzmDUCX",
        "executionInfo": {
          "status": "ok",
          "timestamp": 1730999820987,
          "user_tz": 180,
          "elapsed": 1,
          "user": {
            "displayName": "",
            "userId": ""
          }
        }
      },
      "id": "I9WJChzmDUCX",
      "execution_count": 140,
      "outputs": []
    },
    {
      "cell_type": "code",
      "source": [
        "if df_recompensas.schema[\"dataCriacao\"].dataType != TimestampType():\n",
        "    df_recompensas = df_recompensas.withColumn(\"dataCriacao\", from_unixtime(\"dataCriacao\").cast(\"timestamp\"))\n",
        "\n",
        "if df_recompensas.schema[\"dataAtualizacao\"].dataType != TimestampType():\n",
        "    df_recompensas = df_recompensas.withColumn(\"dataAtualizacao\", from_unixtime(\"dataAtualizacao\").cast(\"timestamp\"))"
      ],
      "metadata": {
        "id": "rJDEmPY_9oth",
        "executionInfo": {
          "status": "ok",
          "timestamp": 1730999822150,
          "user_tz": 180,
          "elapsed": 2,
          "user": {
            "displayName": "",
            "userId": ""
          }
        }
      },
      "id": "rJDEmPY_9oth",
      "execution_count": 141,
      "outputs": []
    },
    {
      "cell_type": "code",
      "source": [
        "df_recompensas.show()"
      ],
      "metadata": {
        "colab": {
          "base_uri": "https://localhost:8080/"
        },
        "id": "lUxzAsbS9ynl",
        "executionInfo": {
          "status": "ok",
          "timestamp": 1730999822915,
          "user_tz": 180,
          "elapsed": 377,
          "user": {
            "displayName": "",
            "userId": ""
          }
        },
        "outputId": "bbfec06c-37c8-47fe-9ef1-339077e21cb4"
      },
      "id": "lUxzAsbS9ynl",
      "execution_count": 142,
      "outputs": [
        {
          "output_type": "stream",
          "name": "stdout",
          "text": [
            "+-------+------------+----+---------------------+-------------------+-----------+-------------------+-------------------+-----+-------------------+-------------+-------+\n",
            "| idJogo|idRecompensa|Tipo|classeItemComunitario|tipoItemComunitario|custoPontos|        dataCriacao|    dataAtualizacao|Ativo|         tituloItem|descricaoItem|Animado|\n",
            "+-------+------------+----+---------------------+-------------------+-----------+-------------------+-------------------+-----+-------------------+-------------+-------+\n",
            "|1191660|      277350|   1|                   11|                 15|       1000|2024-11-05 22:28:05|2024-11-05 22:30:32| true|       Moon Running|             |   true|\n",
            "|3263320|      336639|   1|                    3|                  8|        500|2024-11-05 12:31:12|2024-11-06 20:56:53| true|        The Workers|             |  false|\n",
            "|2624050|      336452|   1|                    3|                  7|        500|2024-11-04 23:29:26|2024-11-06 04:55:37| true|Victoria Background|             |  false|\n",
            "|2624050|      336453|   1|                    3|                  8|        500|2024-11-04 23:28:31|2024-11-06 04:55:37| true|  Sophia Background|             |  false|\n",
            "|2624050|      336456|   1|                    3|                 11|        500|2024-11-04 23:27:53|2024-11-06 04:55:37| true| Lillian Background|             |  false|\n",
            "|2624050|      336455|   1|                    3|                 10|        500|2024-11-04 23:26:36|2024-11-06 04:55:37| true|   Elena Background|             |  false|\n",
            "|2624050|      336454|   1|                    3|                  9|        500|2024-11-04 23:26:11|2024-11-06 04:55:37| true|   Alice Background|             |  false|\n",
            "|2624050|      336461|   1|                    4|                 16|        100|2024-11-03 22:15:27|2024-11-06 04:55:37| true|         :LBBanana:|             |  false|\n",
            "|2624050|      336460|   1|                    4|                 15|        100|2024-11-03 22:11:59|2024-11-06 04:55:37| true|         :LBRabbit:|             |  false|\n",
            "|2624050|      336459|   1|                    4|                 14|        100|2024-11-03 22:09:17|2024-11-06 04:55:37| true|        :LBPenguin:|             |  false|\n",
            "|2624050|      336458|   1|                    4|                 13|        100|2024-11-03 22:07:37|2024-11-06 04:55:37| true|        :LBGlasses:|             |  false|\n",
            "|3263320|      336649|   1|                    4|                 17|        100|2024-11-03 21:34:47|2024-11-06 20:56:53| true|       :thorn_ball:|             |  false|\n",
            "|3263320|      336648|   1|                    4|                 16|        100|2024-11-03 21:33:59|2024-11-06 20:56:53| true|     :wipeout_ball:|             |  false|\n",
            "|3263320|      336644|   1|                    4|                 12|        100|2024-11-03 21:28:31|2024-11-06 20:56:53| true|    :orange_worker:|             |  false|\n",
            "|3263320|      336645|   1|                    4|                 13|        100|2024-11-03 21:28:28|2024-11-06 20:56:53| true|      :blue_worker:|             |  false|\n",
            "|3263320|      336647|   1|                    4|                 15|        100|2024-11-03 21:28:09|2024-11-06 20:56:53| true|       :turn_right:|             |  false|\n",
            "|3263320|      336646|   1|                    4|                 14|        100|2024-11-03 21:27:20|2024-11-06 20:56:53| true|        :turn_left:|             |  false|\n",
            "|3263320|      336643|   1|                    3|                 11|        500|2024-11-03 21:15:42|2024-11-06 20:56:53| true|          Cooperate|             |  false|\n",
            "|3263320|      336642|   1|                    3|                 10|        500|2024-11-03 21:04:28|2024-11-06 20:56:53| true|     Builder's Life|             |  false|\n",
            "|3263320|      336640|   1|                    3|                  9|        500|2024-11-03 20:53:20|2024-11-06 20:56:53| true|               City|             |  false|\n",
            "+-------+------------+----+---------------------+-------------------+-----------+-------------------+-------------------+-----+-------------------+-------------+-------+\n",
            "only showing top 20 rows\n",
            "\n"
          ]
        }
      ]
    },
    {
      "cell_type": "markdown",
      "source": [
        "#### Classificando a quantidade em custos\n",
        "\n",
        "*   Menos que 500 pontos = Barato\n",
        "*   Maior ou igual a 500 pontos = Caro\n",
        "\n"
      ],
      "metadata": {
        "id": "-s3xFNONGmvV"
      },
      "id": "-s3xFNONGmvV"
    },
    {
      "cell_type": "code",
      "source": [
        "df_recompensas = df_recompensas.withColumn(\"categoriaCusto\",\n",
        "                                           when(df_recompensas[\"custoPontos\"] < 500, \"Barato\")\n",
        "                                           .when((df_recompensas[\"custoPontos\"] >= 500) & (df_recompensas[\"custoPontos\"] <= 1500), \"Moderado\")\n",
        "                                           .otherwise(\"Caro\"))\n"
      ],
      "metadata": {
        "id": "CsHp7FC5GZZq",
        "executionInfo": {
          "status": "ok",
          "timestamp": 1730999824382,
          "user_tz": 180,
          "elapsed": 3,
          "user": {
            "displayName": "",
            "userId": ""
          }
        }
      },
      "id": "CsHp7FC5GZZq",
      "execution_count": 143,
      "outputs": []
    },
    {
      "cell_type": "markdown",
      "source": [
        "#### Download de todas as tabelas para CSV e futuramente consumo no Big Query"
      ],
      "metadata": {
        "id": "c3_phkllRhEX"
      },
      "id": "c3_phkllRhEX"
    },
    {
      "cell_type": "code",
      "source": [
        "# Para esse teste, decidi fazer o download direto do arquivo para a minha máquina local e posteriormente inserindo os dados para dentro do bucket para mostrar a facilidade de integração com o BigQuery.\n",
        "df_categorias_pd = df_categorias.toPandas()\n",
        "df_categorias_pd.to_csv('categorias.csv', index=False)\n",
        "\n",
        "df_multiplayer_pd = df_multiplayer.toPandas()\n",
        "df_multiplayer_pd.to_csv('multiplayer.csv', index=False)\n",
        "\n",
        "df_jogos_pd = df_jogos.toPandas()\n",
        "df_jogos_pd.to_csv('jogos.csv', index=False)\n",
        "\n",
        "jogos_recentes_pd = jogos_recentes.toPandas()\n",
        "jogos_recentes_pd.to_csv('jogos_recentes.csv', index=False)\n",
        "\n",
        "jogos_antigos_pd = jogos_antigos.toPandas()\n",
        "jogos_antigos_pd.to_csv('jogos_antigos.csv', index=False)\n",
        "\n",
        "df_recompensas_pd = df_recompensas.toPandas()\n",
        "df_recompensas_pd.to_csv('recompensas.csv', index=False)\n",
        "\n",
        "\n",
        "files.download('categorias.csv')\n",
        "files.download('multiplayer.csv')\n",
        "files.download('jogos.csv')\n",
        "files.download('jogos_recentes.csv')\n",
        "files.download('jogos_antigos.csv')\n",
        "files.download('recompensas.csv')"
      ],
      "metadata": {
        "colab": {
          "base_uri": "https://localhost:8080/",
          "height": 17
        },
        "id": "VnwlcWu7RVXD",
        "executionInfo": {
          "status": "ok",
          "timestamp": 1730994068585,
          "user_tz": 180,
          "elapsed": 3517,
          "user": {
            "displayName": "",
            "userId": ""
          }
        },
        "outputId": "fdf65017-56a1-4949-d7f4-990704c89d2c"
      },
      "id": "VnwlcWu7RVXD",
      "execution_count": 42,
      "outputs": [
        {
          "output_type": "display_data",
          "data": {
            "text/plain": [
              "<IPython.core.display.Javascript object>"
            ],
            "application/javascript": [
              "\n",
              "    async function download(id, filename, size) {\n",
              "      if (!google.colab.kernel.accessAllowed) {\n",
              "        return;\n",
              "      }\n",
              "      const div = document.createElement('div');\n",
              "      const label = document.createElement('label');\n",
              "      label.textContent = `Downloading \"${filename}\": `;\n",
              "      div.appendChild(label);\n",
              "      const progress = document.createElement('progress');\n",
              "      progress.max = size;\n",
              "      div.appendChild(progress);\n",
              "      document.body.appendChild(div);\n",
              "\n",
              "      const buffers = [];\n",
              "      let downloaded = 0;\n",
              "\n",
              "      const channel = await google.colab.kernel.comms.open(id);\n",
              "      // Send a message to notify the kernel that we're ready.\n",
              "      channel.send({})\n",
              "\n",
              "      for await (const message of channel.messages) {\n",
              "        // Send a message to notify the kernel that we're ready.\n",
              "        channel.send({})\n",
              "        if (message.buffers) {\n",
              "          for (const buffer of message.buffers) {\n",
              "            buffers.push(buffer);\n",
              "            downloaded += buffer.byteLength;\n",
              "            progress.value = downloaded;\n",
              "          }\n",
              "        }\n",
              "      }\n",
              "      const blob = new Blob(buffers, {type: 'application/binary'});\n",
              "      const a = document.createElement('a');\n",
              "      a.href = window.URL.createObjectURL(blob);\n",
              "      a.download = filename;\n",
              "      div.appendChild(a);\n",
              "      a.click();\n",
              "      div.remove();\n",
              "    }\n",
              "  "
            ]
          },
          "metadata": {}
        },
        {
          "output_type": "display_data",
          "data": {
            "text/plain": [
              "<IPython.core.display.Javascript object>"
            ],
            "application/javascript": [
              "download(\"download_cd899ee4-89de-42ac-afdb-03ae12011a4d\", \"categorias.csv\", 7305)"
            ]
          },
          "metadata": {}
        },
        {
          "output_type": "display_data",
          "data": {
            "text/plain": [
              "<IPython.core.display.Javascript object>"
            ],
            "application/javascript": [
              "\n",
              "    async function download(id, filename, size) {\n",
              "      if (!google.colab.kernel.accessAllowed) {\n",
              "        return;\n",
              "      }\n",
              "      const div = document.createElement('div');\n",
              "      const label = document.createElement('label');\n",
              "      label.textContent = `Downloading \"${filename}\": `;\n",
              "      div.appendChild(label);\n",
              "      const progress = document.createElement('progress');\n",
              "      progress.max = size;\n",
              "      div.appendChild(progress);\n",
              "      document.body.appendChild(div);\n",
              "\n",
              "      const buffers = [];\n",
              "      let downloaded = 0;\n",
              "\n",
              "      const channel = await google.colab.kernel.comms.open(id);\n",
              "      // Send a message to notify the kernel that we're ready.\n",
              "      channel.send({})\n",
              "\n",
              "      for await (const message of channel.messages) {\n",
              "        // Send a message to notify the kernel that we're ready.\n",
              "        channel.send({})\n",
              "        if (message.buffers) {\n",
              "          for (const buffer of message.buffers) {\n",
              "            buffers.push(buffer);\n",
              "            downloaded += buffer.byteLength;\n",
              "            progress.value = downloaded;\n",
              "          }\n",
              "        }\n",
              "      }\n",
              "      const blob = new Blob(buffers, {type: 'application/binary'});\n",
              "      const a = document.createElement('a');\n",
              "      a.href = window.URL.createObjectURL(blob);\n",
              "      a.download = filename;\n",
              "      div.appendChild(a);\n",
              "      a.click();\n",
              "      div.remove();\n",
              "    }\n",
              "  "
            ]
          },
          "metadata": {}
        },
        {
          "output_type": "display_data",
          "data": {
            "text/plain": [
              "<IPython.core.display.Javascript object>"
            ],
            "application/javascript": [
              "download(\"download_4849086d-3593-4b6a-a429-08e4171188e6\", \"multiplayer.csv\", 141)"
            ]
          },
          "metadata": {}
        },
        {
          "output_type": "display_data",
          "data": {
            "text/plain": [
              "<IPython.core.display.Javascript object>"
            ],
            "application/javascript": [
              "\n",
              "    async function download(id, filename, size) {\n",
              "      if (!google.colab.kernel.accessAllowed) {\n",
              "        return;\n",
              "      }\n",
              "      const div = document.createElement('div');\n",
              "      const label = document.createElement('label');\n",
              "      label.textContent = `Downloading \"${filename}\": `;\n",
              "      div.appendChild(label);\n",
              "      const progress = document.createElement('progress');\n",
              "      progress.max = size;\n",
              "      div.appendChild(progress);\n",
              "      document.body.appendChild(div);\n",
              "\n",
              "      const buffers = [];\n",
              "      let downloaded = 0;\n",
              "\n",
              "      const channel = await google.colab.kernel.comms.open(id);\n",
              "      // Send a message to notify the kernel that we're ready.\n",
              "      channel.send({})\n",
              "\n",
              "      for await (const message of channel.messages) {\n",
              "        // Send a message to notify the kernel that we're ready.\n",
              "        channel.send({})\n",
              "        if (message.buffers) {\n",
              "          for (const buffer of message.buffers) {\n",
              "            buffers.push(buffer);\n",
              "            downloaded += buffer.byteLength;\n",
              "            progress.value = downloaded;\n",
              "          }\n",
              "        }\n",
              "      }\n",
              "      const blob = new Blob(buffers, {type: 'application/binary'});\n",
              "      const a = document.createElement('a');\n",
              "      a.href = window.URL.createObjectURL(blob);\n",
              "      a.download = filename;\n",
              "      div.appendChild(a);\n",
              "      a.click();\n",
              "      div.remove();\n",
              "    }\n",
              "  "
            ]
          },
          "metadata": {}
        },
        {
          "output_type": "display_data",
          "data": {
            "text/plain": [
              "<IPython.core.display.Javascript object>"
            ],
            "application/javascript": [
              "download(\"download_d961e0d1-27cd-4324-80bc-6906660ab462\", \"jogos.csv\", 648542)"
            ]
          },
          "metadata": {}
        },
        {
          "output_type": "display_data",
          "data": {
            "text/plain": [
              "<IPython.core.display.Javascript object>"
            ],
            "application/javascript": [
              "\n",
              "    async function download(id, filename, size) {\n",
              "      if (!google.colab.kernel.accessAllowed) {\n",
              "        return;\n",
              "      }\n",
              "      const div = document.createElement('div');\n",
              "      const label = document.createElement('label');\n",
              "      label.textContent = `Downloading \"${filename}\": `;\n",
              "      div.appendChild(label);\n",
              "      const progress = document.createElement('progress');\n",
              "      progress.max = size;\n",
              "      div.appendChild(progress);\n",
              "      document.body.appendChild(div);\n",
              "\n",
              "      const buffers = [];\n",
              "      let downloaded = 0;\n",
              "\n",
              "      const channel = await google.colab.kernel.comms.open(id);\n",
              "      // Send a message to notify the kernel that we're ready.\n",
              "      channel.send({})\n",
              "\n",
              "      for await (const message of channel.messages) {\n",
              "        // Send a message to notify the kernel that we're ready.\n",
              "        channel.send({})\n",
              "        if (message.buffers) {\n",
              "          for (const buffer of message.buffers) {\n",
              "            buffers.push(buffer);\n",
              "            downloaded += buffer.byteLength;\n",
              "            progress.value = downloaded;\n",
              "          }\n",
              "        }\n",
              "      }\n",
              "      const blob = new Blob(buffers, {type: 'application/binary'});\n",
              "      const a = document.createElement('a');\n",
              "      a.href = window.URL.createObjectURL(blob);\n",
              "      a.download = filename;\n",
              "      div.appendChild(a);\n",
              "      a.click();\n",
              "      div.remove();\n",
              "    }\n",
              "  "
            ]
          },
          "metadata": {}
        },
        {
          "output_type": "display_data",
          "data": {
            "text/plain": [
              "<IPython.core.display.Javascript object>"
            ],
            "application/javascript": [
              "download(\"download_f76bfa17-1eec-4a10-9c2d-ec8eadf0e36b\", \"jogos_recentes.csv\", 51801)"
            ]
          },
          "metadata": {}
        },
        {
          "output_type": "display_data",
          "data": {
            "text/plain": [
              "<IPython.core.display.Javascript object>"
            ],
            "application/javascript": [
              "\n",
              "    async function download(id, filename, size) {\n",
              "      if (!google.colab.kernel.accessAllowed) {\n",
              "        return;\n",
              "      }\n",
              "      const div = document.createElement('div');\n",
              "      const label = document.createElement('label');\n",
              "      label.textContent = `Downloading \"${filename}\": `;\n",
              "      div.appendChild(label);\n",
              "      const progress = document.createElement('progress');\n",
              "      progress.max = size;\n",
              "      div.appendChild(progress);\n",
              "      document.body.appendChild(div);\n",
              "\n",
              "      const buffers = [];\n",
              "      let downloaded = 0;\n",
              "\n",
              "      const channel = await google.colab.kernel.comms.open(id);\n",
              "      // Send a message to notify the kernel that we're ready.\n",
              "      channel.send({})\n",
              "\n",
              "      for await (const message of channel.messages) {\n",
              "        // Send a message to notify the kernel that we're ready.\n",
              "        channel.send({})\n",
              "        if (message.buffers) {\n",
              "          for (const buffer of message.buffers) {\n",
              "            buffers.push(buffer);\n",
              "            downloaded += buffer.byteLength;\n",
              "            progress.value = downloaded;\n",
              "          }\n",
              "        }\n",
              "      }\n",
              "      const blob = new Blob(buffers, {type: 'application/binary'});\n",
              "      const a = document.createElement('a');\n",
              "      a.href = window.URL.createObjectURL(blob);\n",
              "      a.download = filename;\n",
              "      div.appendChild(a);\n",
              "      a.click();\n",
              "      div.remove();\n",
              "    }\n",
              "  "
            ]
          },
          "metadata": {}
        },
        {
          "output_type": "display_data",
          "data": {
            "text/plain": [
              "<IPython.core.display.Javascript object>"
            ],
            "application/javascript": [
              "download(\"download_7d3ca4f9-63e3-4ed6-9d17-8b9bb4d49d26\", \"jogos_antigos.csv\", 455436)"
            ]
          },
          "metadata": {}
        },
        {
          "output_type": "display_data",
          "data": {
            "text/plain": [
              "<IPython.core.display.Javascript object>"
            ],
            "application/javascript": [
              "\n",
              "    async function download(id, filename, size) {\n",
              "      if (!google.colab.kernel.accessAllowed) {\n",
              "        return;\n",
              "      }\n",
              "      const div = document.createElement('div');\n",
              "      const label = document.createElement('label');\n",
              "      label.textContent = `Downloading \"${filename}\": `;\n",
              "      div.appendChild(label);\n",
              "      const progress = document.createElement('progress');\n",
              "      progress.max = size;\n",
              "      div.appendChild(progress);\n",
              "      document.body.appendChild(div);\n",
              "\n",
              "      const buffers = [];\n",
              "      let downloaded = 0;\n",
              "\n",
              "      const channel = await google.colab.kernel.comms.open(id);\n",
              "      // Send a message to notify the kernel that we're ready.\n",
              "      channel.send({})\n",
              "\n",
              "      for await (const message of channel.messages) {\n",
              "        // Send a message to notify the kernel that we're ready.\n",
              "        channel.send({})\n",
              "        if (message.buffers) {\n",
              "          for (const buffer of message.buffers) {\n",
              "            buffers.push(buffer);\n",
              "            downloaded += buffer.byteLength;\n",
              "            progress.value = downloaded;\n",
              "          }\n",
              "        }\n",
              "      }\n",
              "      const blob = new Blob(buffers, {type: 'application/binary'});\n",
              "      const a = document.createElement('a');\n",
              "      a.href = window.URL.createObjectURL(blob);\n",
              "      a.download = filename;\n",
              "      div.appendChild(a);\n",
              "      a.click();\n",
              "      div.remove();\n",
              "    }\n",
              "  "
            ]
          },
          "metadata": {}
        },
        {
          "output_type": "display_data",
          "data": {
            "text/plain": [
              "<IPython.core.display.Javascript object>"
            ],
            "application/javascript": [
              "download(\"download_f50f6ea2-1b82-4efc-809c-fc6328e469ba\", \"recompensas.csv\", 10984)"
            ]
          },
          "metadata": {}
        }
      ]
    }
  ],
  "metadata": {
    "kernelspec": {
      "display_name": "Python 3",
      "language": "python",
      "name": "python3"
    },
    "language_info": {
      "codemirror_mode": {
        "name": "ipython",
        "version": 3
      },
      "file_extension": ".py",
      "mimetype": "text/x-python",
      "name": "python",
      "nbconvert_exporter": "python",
      "pygments_lexer": "ipython3",
      "version": "3.10.10"
    },
    "colab": {
      "provenance": [],
      "name": "Teste Prático - Engenharia"
    }
  },
  "nbformat": 4,
  "nbformat_minor": 5
}